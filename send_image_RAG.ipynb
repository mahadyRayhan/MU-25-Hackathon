{
 "cells": [
  {
   "cell_type": "markdown",
   "metadata": {},
   "source": [
    "# Previous Google Generative AI library version: 0.7.2"
   ]
  },
  {
   "cell_type": "code",
   "execution_count": 1,
   "metadata": {},
   "outputs": [
    {
     "name": "stderr",
     "output_type": "stream",
     "text": [
      "/opt/anaconda3/envs/agent/lib/python3.11/site-packages/tqdm/auto.py:21: TqdmWarning: IProgress not found. Please update jupyter and ipywidgets. See https://ipywidgets.readthedocs.io/en/stable/user_install.html\n",
      "  from .autonotebook import tqdm as notebook_tqdm\n"
     ]
    }
   ],
   "source": [
    "import os\n",
    "import re\n",
    "import time\n",
    "import glob\n",
    "import PyPDF2\n",
    "import google.generativeai as genai\n",
    "from dotenv import load_dotenv\n",
    "from google.generativeai.types import HarmCategory, HarmBlockThreshold\n",
    "\n",
    "load_dotenv()\n",
    "genai.configure(api_key=os.getenv(\"GOOGLE_API_KEY\"))\n",
    "\n",
    "## Load Gemini pro vision model\n",
    "model=genai.GenerativeModel('gemini-1.5-flash')"
   ]
  },
  {
   "cell_type": "code",
   "execution_count": 2,
   "metadata": {},
   "outputs": [
    {
     "name": "stdout",
     "output_type": "stream",
     "text": [
      "Hi there!  That's a great question!\n",
      "\n",
      "The image shows an icon that looks like a webpage or window with a large red circle containing a black \"X\".  This is the \"Error\" icon in the uSucceed VR environment.  It pops up whenever there's a problem with something in the virtual reality world.  Think of it like an error message on your computer or phone, but in the VR training!\n",
      "\n"
     ]
    }
   ],
   "source": [
    "import os\n",
    "import time\n",
    "from datetime import datetime\n",
    "from PIL import Image\n",
    "from reportlab.lib.pagesizes import letter\n",
    "from reportlab.pdfgen import canvas\n",
    "from PyPDF2 import PdfReader, PdfWriter\n",
    "\n",
    "def read_pdf(pdf_path=\"test_resource/TEST-1.0.pdf\"):\n",
    "    \"\"\"Extract text from a PDF file using PyPDF2.\"\"\"\n",
    "    with open(pdf_path, \"rb\") as file:\n",
    "        reader = PyPDF2.PdfReader(file)\n",
    "        text = []\n",
    "        for page in reader.pages:\n",
    "            page_text = page.extract_text()\n",
    "            if page_text:\n",
    "                text.append(page_text)\n",
    "        guide = \"\\n\".join(text)\n",
    "    return guide\n",
    "\n",
    "def load_image(image_path, size):\n",
    "    \"\"\"Load an image from the given path and resize it.\"\"\"\n",
    "    image = Image.open(image_path)\n",
    "    return image.resize(size)\n",
    "\n",
    "def get_gemini_response(image):\n",
    "    \"\"\"Call the Gemini API to get a description for the image.\"\"\"\n",
    "    # This is a placeholder. Replace it with the actual API call to Gemini.\n",
    "    # Pass the image to Gemini and return the response.\n",
    "    info = read_pdf()\n",
    "    contents = [\"Describe the picture in detail, focusing on key elements so that the description could help to answer follow-up questions.\", image]\n",
    "\n",
    "    info = read_pdf()\n",
    "    contents = [f\"\"\"\n",
    "    You are an AI-based assistant designed to help students with traffic signs and their descriptions. Your task is to provide **clear, engaging, and friendly** answers based on the information from the provided document about traffic signs and the content of the image.\n",
    "\n",
    "    **Instructions:**\n",
    "    - **Keep answers simple, short, and easy to understand.**\n",
    "    - **Describe the image in detail**, focusing on key elements that could help answer any follow-up questions.\n",
    "    - **If you don’t have the answer**, say:\n",
    "    *\"I’m here to help with traffic sign questions! But it looks like I don’t have enough information to answer this one. Let me know if you’d like to try a different question!\"*\n",
    "\n",
    "    You can use the information from the document and the image to form answers.\n",
    "    \"\"\", info, image]\n",
    "\n",
    "    start_time = time.time()\n",
    "    responses = model.generate_content(contents, stream=True)  # Gemini API call\n",
    "    response_time = time.time() - start_time\n",
    "    return responses, response_time\n",
    "\n",
    "def process_image(image_path=None, image=None):\n",
    "    \"\"\"Process the image from either a path or directly passed image.\"\"\"\n",
    "    if image_path:\n",
    "        image = load_image(image_path, (500, 500))\n",
    "    # Ensure image is loaded or passed for further processing\n",
    "    return image\n",
    "\n",
    "def wrap_text(text, max_width, canvas_obj):\n",
    "    \"\"\"Wrap the text to fit within the specified max width\"\"\"\n",
    "    lines = []\n",
    "    words = text.split(' ')\n",
    "    current_line = words[0]\n",
    "    \n",
    "    for word in words[1:]:\n",
    "        if canvas_obj.stringWidth(current_line + ' ' + word) < max_width:\n",
    "            current_line += ' ' + word\n",
    "        else:\n",
    "            lines.append(current_line)\n",
    "            current_line = word\n",
    "    \n",
    "    lines.append(current_line)\n",
    "    return lines\n",
    "\n",
    "# Example usage:\n",
    "image_path = 'test_images/error.png'\n",
    "# relative_path = os.path.join(image_dir, image_path)\n",
    "image = process_image(image_path=image_path)  # Or use an image object directly if available\n",
    "\n",
    "response, response_time = get_gemini_response(image)\n",
    "timestamp = datetime.now().strftime(\"%Y-%m-%d %H:%M:%S\")\n",
    "\n",
    "response_text = \"\"\n",
    "for r in response:\n",
    "    response_text += r.text\n",
    "if not response_text.strip():\n",
    "    response_text = \"[No text response generated]\"\n",
    "print(response_text)\n"
   ]
  },
  {
   "cell_type": "code",
   "execution_count": null,
   "metadata": {},
   "outputs": [],
   "source": []
  }
 ],
 "metadata": {
  "kernelspec": {
   "display_name": "agent",
   "language": "python",
   "name": "python3"
  },
  "language_info": {
   "codemirror_mode": {
    "name": "ipython",
    "version": 3
   },
   "file_extension": ".py",
   "mimetype": "text/x-python",
   "name": "python",
   "nbconvert_exporter": "python",
   "pygments_lexer": "ipython3",
   "version": "3.11.10"
  }
 },
 "nbformat": 4,
 "nbformat_minor": 2
}
