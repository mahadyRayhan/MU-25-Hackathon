{
  "cells": [
    {
      "cell_type": "markdown",
      "metadata": {
        "id": "3ZBEJmZtJInu"
      },
      "source": [
        "# Creating a new tree in main branch when question goes out of context - FINAL WORKING CODE"
      ]
    },
    {
      "cell_type": "code",
      "execution_count": null,
      "metadata": {
        "colab": {
          "base_uri": "https://localhost:8080/"
        },
        "id": "l0QSTLeUJIJH",
        "outputId": "b837dd57-a8d1-4f2c-cc4f-6231c0d69dc2"
      },
      "outputs": [
        {
          "name": "stdout",
          "output_type": "stream",
          "text": [
            "Added root node with id: 74b4e45d-ba62-41f7-a6f3-d93bcd922754\n",
            "Adding node under parent id 74b4e45d-ba62-41f7-a6f3-d93bcd922754.\n",
            "Added child node with id: 686cf5b3-77da-44bb-8cd8-7b7ff10d0b51 under parent id: 74b4e45d-ba62-41f7-a6f3-d93bcd922754\n",
            "Question out of context with parent id 74b4e45d-ba62-41f7-a6f3-d93bcd922754. Creating a new tree.\n",
            "Added node with id: 942e2c31-25ed-4e82-be61-5ac596c9c87e as a new tree due to context change from parent id: 74b4e45d-ba62-41f7-a6f3-d93bcd922754\n",
            "Adding node under parent id 686cf5b3-77da-44bb-8cd8-7b7ff10d0b51.\n",
            "Added grandchild node with id: 59eb16b6-3d04-47bf-a7a5-f01d7b5cc686 under parent id: 686cf5b3-77da-44bb-8cd8-7b7ff10d0b51\n"
          ]
        }
      ],
      "source": [
        "import json\n",
        "import os\n",
        "import uuid\n",
        "import re\n",
        "\n",
        "# Define a set of common English stopwords to filter out during tokenization.\n",
        "STOPWORDS = {\n",
        "    \"what\", \"is\", \"your\", \"a\", \"an\", \"the\", \"and\", \"or\", \"but\", \"if\",\n",
        "    \"of\", \"for\", \"to\", \"in\", \"with\", \"on\", \"at\", \"from\", \"as\", \"it\",\n",
        "    \"are\", \"this\", \"that\", \"was\", \"were\", \"be\", \"been\", \"has\", \"have\", \"had\"\n",
        "}\n",
        "\n",
        "def find_node_by_id(nodes, node_id):\n",
        "    \"\"\"\n",
        "    Recursively searches for a node with the given node_id in a list of nodes.\n",
        "\n",
        "    Parameters:\n",
        "        nodes (list): A list of node dictionaries.\n",
        "        node_id (str): The unique identifier to search for.\n",
        "\n",
        "    Returns:\n",
        "        dict or None: The node dictionary if found; otherwise, None.\n",
        "    \"\"\"\n",
        "    for node in nodes:\n",
        "        if node['id'] == node_id:\n",
        "            return node\n",
        "        found = find_node_by_id(node.get('children', []), node_id)\n",
        "        if found:\n",
        "            return found\n",
        "    return None\n",
        "\n",
        "def tokenize(text):\n",
        "    \"\"\"\n",
        "    Tokenizes the input text into a set of lower-case words, removing punctuation\n",
        "    and filtering out common stopwords.\n",
        "\n",
        "    Parameters:\n",
        "        text (str): The input text.\n",
        "\n",
        "    Returns:\n",
        "        set: A set of words with stopwords removed.\n",
        "    \"\"\"\n",
        "    tokens = set(re.findall(r'\\w+', text.lower()))\n",
        "    filtered_tokens = {token for token in tokens if token not in STOPWORDS}\n",
        "    return filtered_tokens\n",
        "\n",
        "def is_in_context(new_question, parent_node, threshold=0.2):\n",
        "    \"\"\"\n",
        "    Determines whether the new question is contextually relevant to the parent's content.\n",
        "\n",
        "    This heuristic computes the token overlap ratio after filtering out common stopwords.\n",
        "\n",
        "    Parameters:\n",
        "        new_question (str): The new question text.\n",
        "        parent_node (dict): The parent node containing 'question' and 'answer' keys.\n",
        "        threshold (float): The minimum fraction of common tokens required to consider the question in context.\n",
        "\n",
        "    Returns:\n",
        "        bool: True if the new question is in context, False otherwise.\n",
        "    \"\"\"\n",
        "    parent_text = parent_node.get('question', '') + \" \" + parent_node.get('answer', '')\n",
        "    new_tokens = tokenize(new_question)\n",
        "    parent_tokens = tokenize(parent_text)\n",
        "\n",
        "    if not new_tokens:\n",
        "        return False  # Avoid division by zero\n",
        "\n",
        "    common_tokens = new_tokens.intersection(parent_tokens)\n",
        "    ratio = len(common_tokens) / len(new_tokens)\n",
        "\n",
        "    return ratio >= threshold\n",
        "\n",
        "def update_json_tree(file_path, question, answer, parent_id=None):\n",
        "    \"\"\"\n",
        "    Dynamically updates a JSON file by adding a new node to a tree of question-answer pairs.\n",
        "\n",
        "    This function supports creating a new tree if the new question is determined to be out of context\n",
        "    relative to the intended parent node.\n",
        "\n",
        "    Each node in the tree contains:\n",
        "      - id: A unique identifier for the node.\n",
        "      - question: The question text.\n",
        "      - answer: The corresponding answer.\n",
        "      - children: A list of child nodes (subtree).\n",
        "\n",
        "    Parameters:\n",
        "        file_path (str): Path to the JSON file.\n",
        "        question (str): The question text to be added.\n",
        "        answer (str): The corresponding answer.\n",
        "        parent_id (str, optional): The unique identifier of the parent node. If None,\n",
        "                                   the new node is added as a root-level entry. If provided but the new question\n",
        "                                   is out of context with the parent's content, a new tree is started.\n",
        "\n",
        "    Returns:\n",
        "        str: The unique identifier of the newly added node.\n",
        "    \"\"\"\n",
        "    # Load existing tree data; initialize as an empty list if the file is absent or invalid.\n",
        "    if os.path.exists(file_path):\n",
        "        try:\n",
        "            with open(file_path, 'r') as f:\n",
        "                tree = json.load(f)\n",
        "                if not isinstance(tree, list):\n",
        "                    tree = []\n",
        "        except json.JSONDecodeError:\n",
        "            tree = []\n",
        "    else:\n",
        "        tree = []\n",
        "\n",
        "    # Create a new node with a unique identifier and an empty children list.\n",
        "    new_id = str(uuid.uuid4())\n",
        "    new_node = {\n",
        "        \"id\": new_id,\n",
        "        \"question\": question,\n",
        "        \"answer\": answer,\n",
        "        \"children\": []\n",
        "    }\n",
        "\n",
        "    # If a parent_id is provided, attempt to attach the new node as a child if in context.\n",
        "    if parent_id is not None:\n",
        "        parent_node = find_node_by_id(tree, parent_id)\n",
        "        if parent_node is not None:\n",
        "            if is_in_context(question, parent_node):\n",
        "                parent_node.setdefault(\"children\", []).append(new_node)\n",
        "                print(f\"Adding node under parent id {parent_id}.\")\n",
        "            else:\n",
        "                print(f\"Question out of context with parent id {parent_id}. Creating a new tree.\")\n",
        "                tree.append(new_node)\n",
        "        else:\n",
        "            print(f\"Warning: Parent with id {parent_id} not found. Adding as a new tree.\")\n",
        "            tree.append(new_node)\n",
        "    else:\n",
        "        tree.append(new_node)\n",
        "\n",
        "    # Write the updated tree back to the JSON file with pretty printing.\n",
        "    with open(file_path, 'w') as f:\n",
        "        json.dump(tree, f, indent=4)\n",
        "\n",
        "    return new_id\n",
        "\n",
        "# Test Cases to Demonstrate Subtree and New Tree Functionality\n",
        "if __name__ == \"__main__\":\n",
        "    file_path = \"qa_tree.json\"\n",
        "\n",
        "    # Test Case 1: Add a root-level question.\n",
        "    root_id = update_json_tree(file_path,\n",
        "                               \"What is your favorite color?\",\n",
        "                               \"Blue\")\n",
        "    print(f\"Added root node with id: {root_id}\")\n",
        "\n",
        "    # Test Case 2: Add a child question under the root question (in context).\n",
        "    child1_id = update_json_tree(file_path,\n",
        "                                 \"Why do you like that color?\",\n",
        "                                 \"It is calming and reminiscent of the sky.\",\n",
        "                                 parent_id=root_id)\n",
        "    print(f\"Added child node with id: {child1_id} under parent id: {root_id}\")\n",
        "\n",
        "    # Test Case 3: Add a new question that is out of context with the current tree.\n",
        "    new_tree_id = update_json_tree(file_path,\n",
        "                                   \"What is your favourite sport?\",\n",
        "                                   \"I enjoy playing soccer.\",\n",
        "                                   parent_id=root_id)  # Context check should fail, creating a new tree.\n",
        "    print(f\"Added node with id: {new_tree_id} as a new tree due to context change from parent id: {root_id}\")\n",
        "\n",
        "    # Test Case 4: Add another child in context under the first child question.\n",
        "    grandchild_id = update_json_tree(file_path,\n",
        "                                     \"Could you elaborate on how the color affects your mood?\",\n",
        "                                     \"It creates a soothing ambiance.\",\n",
        "                                     parent_id=child1_id)\n",
        "    print(f\"Added grandchild node with id: {grandchild_id} under parent id: {child1_id}\")\n"
      ]
    },
    {
      "cell_type": "markdown",
      "metadata": {
        "id": "XsMdHiPyk7rg"
      },
      "source": [
        "```\n",
        "Q: what is SD?\n",
        "A: Software Development involves creating different types: web based, android, desktop, etc.\n",
        "  Q: what is a web based software?\n",
        "  A: Web-based software runs in a browser and can be accessed from any device with internet connection.\n",
        "    Q: how can i build one?\n",
        "    A: You'll need to learn HTML, CSS, JavaScript, and a backend language like Python, Node.js, or PHP.\n",
        "  Q: what is an desktop based software?\n",
        "  A: Desktop software runs locally on your computer and doesn't require internet to function.\n",
        "    Q: what language I should learn?\n",
        "    A: For desktop applications, Java or C# are good choices.\n",
        "      Q: what is C#?\n",
        "      A: C# (pronounced C-sharp) is a programming language developed by Microsoft primarily for Windows applications.\n",
        "```"
      ]
    },
    {
      "cell_type": "markdown",
      "metadata": {
        "id": "0OSUQGtZsMAl"
      },
      "source": [
        "# New code - use this"
      ]
    },
    {
      "cell_type": "code",
      "execution_count": 2,
      "metadata": {
        "colab": {
          "base_uri": "https://localhost:8080/"
        },
        "id": "aPJ0dSLgCqyY",
        "outputId": "a78730b6-55bc-45b3-a010-30e5b6e87914"
      },
      "outputs": [],
      "source": [
        "import json\n",
        "import os\n",
        "import uuid\n",
        "import re\n",
        "\n",
        "# Define a set of common English stopwords to filter out during tokenization.\n",
        "STOPWORDS = {\n",
        "    \"what\", \"is\", \"your\", \"a\", \"an\", \"the\", \"and\", \"or\", \"but\", \"if\",\n",
        "    \"of\", \"for\", \"to\", \"in\", \"with\", \"on\", \"at\", \"from\", \"as\", \"it\",\n",
        "    \"are\", \"this\", \"that\", \"was\", \"were\", \"be\", \"been\", \"has\", \"have\", \"had\"\n",
        "}\n",
        "\n",
        "def find_node_by_id(nodes, node_id):\n",
        "    \"\"\"\n",
        "    Recursively searches for a node with the given node_id in a list of nodes.\n",
        "    \"\"\"\n",
        "    for node in nodes:\n",
        "        if node['id'] == node_id:\n",
        "            return node\n",
        "        found = find_node_by_id(node.get('children', []), node_id)\n",
        "        if found:\n",
        "            return found\n",
        "    return None\n",
        "\n",
        "def tokenize(text):\n",
        "    \"\"\"\n",
        "    Tokenizes the input text into a set of lower-case words, removing punctuation\n",
        "    and filtering out common stopwords.\n",
        "    \"\"\"\n",
        "    tokens = set(re.findall(r'\\w+', text.lower()))\n",
        "    filtered_tokens = {token for token in tokens if token not in STOPWORDS}\n",
        "    return filtered_tokens\n",
        "\n",
        "def is_in_context(new_question, parent_node, threshold=0.2):\n",
        "    \"\"\"\n",
        "    Determines whether the new question is contextually relevant to the parent's content\n",
        "    by computing the token overlap ratio after filtering out common stopwords.\n",
        "    \"\"\"\n",
        "    parent_text = parent_node.get('question', '') + \" \" + parent_node.get('answer', '')\n",
        "    new_tokens = tokenize(new_question)\n",
        "    parent_tokens = tokenize(parent_text)\n",
        "\n",
        "    if not new_tokens:\n",
        "        return False\n",
        "\n",
        "    common_tokens = new_tokens.intersection(parent_tokens)\n",
        "    ratio = len(common_tokens) / len(new_tokens)\n",
        "\n",
        "    return ratio >= threshold\n",
        "\n",
        "def get_last_leaf_node(tree_list):\n",
        "    \"\"\"\n",
        "    Retrieves the deepest (last) leaf node from the most recent tree in the list.\n",
        "    Returns None if no nodes exist.\n",
        "    \"\"\"\n",
        "    if not tree_list:\n",
        "        return None\n",
        "    current = tree_list[-1]\n",
        "    while current.get('children'):\n",
        "        current = current['children'][-1]\n",
        "    return current\n",
        "\n",
        "def update_json_tree(file_path, question, answer, parent_id=None):\n",
        "    \"\"\"\n",
        "    Dynamically updates a JSON file by automatically determining the proper location\n",
        "    for a new question–answer node. If no parent_id is provided, the function retrieves\n",
        "    the last leaf node from the most recent tree and uses it as the default parent if the new\n",
        "    question is in context; otherwise, the new node is added as a root-level node.\n",
        "    \"\"\"\n",
        "    # Load existing tree data; initialize as an empty list if the file is absent or invalid.\n",
        "    if os.path.exists(file_path):\n",
        "        try:\n",
        "            with open(file_path, 'r') as f:\n",
        "                tree = json.load(f)\n",
        "                if not isinstance(tree, list):\n",
        "                    tree = []\n",
        "        except json.JSONDecodeError:\n",
        "            tree = []\n",
        "    else:\n",
        "        tree = []\n",
        "\n",
        "    # Create a new node with a unique identifier and an empty children list.\n",
        "    new_id = str(uuid.uuid4())\n",
        "    new_node = {\n",
        "        \"id\": new_id,\n",
        "        \"question\": question,\n",
        "        \"answer\": answer,\n",
        "        \"children\": []\n",
        "    }\n",
        "\n",
        "    # If no parent_id is provided, auto-detect based on the last leaf node.\n",
        "    if parent_id is None:\n",
        "        default_parent = get_last_leaf_node(tree)\n",
        "        if default_parent is not None and is_in_context(question, default_parent):\n",
        "            parent_id = default_parent['id']\n",
        "            print(f\"Auto-detected context: Adding node under parent id {parent_id}.\")\n",
        "        else:\n",
        "            print(\"Auto-detected context: Creating a new tree (root-level node).\")\n",
        "\n",
        "    # If a parent_id is available, try to add the new node as a child.\n",
        "    if parent_id is not None:\n",
        "        parent_node = find_node_by_id(tree, parent_id)\n",
        "        if parent_node is not None:\n",
        "            # Even if a parent_id is provided, double-check context.\n",
        "            if is_in_context(question, parent_node):\n",
        "                parent_node.setdefault(\"children\", []).append(new_node)\n",
        "                print(f\"Adding node under parent id {parent_id}.\")\n",
        "            else:\n",
        "                print(f\"Context mismatch with parent id {parent_id}; creating a new tree.\")\n",
        "                tree.append(new_node)\n",
        "        else:\n",
        "            print(f\"Warning: Parent with id {parent_id} not found; adding as a new tree.\")\n",
        "            tree.append(new_node)\n",
        "    else:\n",
        "        # No valid parent detected; add as a new root-level node.\n",
        "        tree.append(new_node)\n",
        "\n",
        "    # Write the updated tree back to the JSON file with pretty printing.\n",
        "    with open(file_path, 'w') as f:\n",
        "        json.dump(tree, f, indent=4)\n",
        "\n",
        "    return new_id\n",
        "\n",
        "# Test Cases to Demonstrate Automatic Context Detection\n"
      ]
    },
    {
      "cell_type": "code",
      "execution_count": 3,
      "metadata": {},
      "outputs": [
        {
          "name": "stdout",
          "output_type": "stream",
          "text": [
            "Auto-detected context: Creating a new tree (root-level node).\n",
            "Added node with id: ced86b49-80dd-4369-aa2d-c73ee4b4f7ad\n"
          ]
        }
      ],
      "source": [
        "file_path = \"qa_tree_7.json\"\n",
        "\n",
        "# Test Case 1: Add a root-level question.\n",
        "id1 = update_json_tree(file_path,\n",
        "                        \"what is SD?\",\n",
        "                        \"Software Development involves creating different types: web based, android, desktop, etc.\")\n",
        "print(f\"Added node with id: {id1}\")\n"
      ]
    },
    {
      "cell_type": "code",
      "execution_count": 4,
      "metadata": {},
      "outputs": [
        {
          "name": "stdout",
          "output_type": "stream",
          "text": [
            "Auto-detected context: Adding node under parent id ced86b49-80dd-4369-aa2d-c73ee4b4f7ad.\n",
            "Adding node under parent id ced86b49-80dd-4369-aa2d-c73ee4b4f7ad.\n",
            "Added node with id: 3fe97d9f-f725-4676-affb-4a270991829a\n"
          ]
        }
      ],
      "source": [
        "# Test Case 2: Add a question that is in context with the previous one.\n",
        "id2 = update_json_tree(file_path,\n",
        "                        \"what is a web based software?\",\n",
        "                        \"Web-based software runs in a browser and can be accessed from any device with internet connection.\")\n",
        "print(f\"Added node with id: {id2}\")"
      ]
    },
    {
      "cell_type": "code",
      "execution_count": 5,
      "metadata": {},
      "outputs": [
        {
          "name": "stdout",
          "output_type": "stream",
          "text": [
            "Auto-detected context: Adding node under parent id 3fe97d9f-f725-4676-affb-4a270991829a.\n",
            "Adding node under parent id 3fe97d9f-f725-4676-affb-4a270991829a.\n",
            "Added node with id: 9736f773-3e38-43a1-8fbe-972ab076155f as a new tree due to context change.\n"
          ]
        }
      ],
      "source": [
        "# Test Case 3: Add a question that is out of context.\n",
        "id3 = update_json_tree(file_path,\n",
        "                        \"how can i build one?\",\n",
        "                        \"You'll need to learn HTML, CSS, JavaScript, and a backend language like Python, Node.js, or PHP.\")\n",
        "print(f\"Added node with id: {id3} as a new tree due to context change.\")\n"
      ]
    },
    {
      "cell_type": "code",
      "execution_count": 6,
      "metadata": {},
      "outputs": [
        {
          "name": "stdout",
          "output_type": "stream",
          "text": [
            "Auto-detected context: Creating a new tree (root-level node).\n",
            "Added node with id: b63e5544-2c36-4c99-a67c-116d2d15e7ad\n"
          ]
        }
      ],
      "source": [
        "# Test Case 4: Add another in-context question after the new tree.\n",
        "id4 = update_json_tree(file_path,\n",
        "                        \"what is an desktop based software?\",\n",
        "                        \"Desktop software runs locally on your computer and doesn't require internet to function.\")\n",
        "print(f\"Added node with id: {id4}\")"
      ]
    },
    {
      "cell_type": "code",
      "execution_count": 7,
      "metadata": {},
      "outputs": [
        {
          "name": "stdout",
          "output_type": "stream",
          "text": [
            "Auto-detected context: Creating a new tree (root-level node).\n"
          ]
        },
        {
          "data": {
            "text/plain": [
              "'9c6fe5eb-8329-42b2-9334-e3ba1cb02f12'"
            ]
          },
          "execution_count": 7,
          "metadata": {},
          "output_type": "execute_result"
        }
      ],
      "source": [
        "# Test Case 4: Add another in-context question after the new tree.\n",
        "update_json_tree(file_path,\n",
        "                        \"what language I should learn?\",\n",
        "                        \"For desktop applications, Java or C# are good choices.\")"
      ]
    },
    {
      "cell_type": "code",
      "execution_count": 8,
      "metadata": {},
      "outputs": [
        {
          "name": "stdout",
          "output_type": "stream",
          "text": [
            "Auto-detected context: Adding node under parent id 9c6fe5eb-8329-42b2-9334-e3ba1cb02f12.\n",
            "Adding node under parent id 9c6fe5eb-8329-42b2-9334-e3ba1cb02f12.\n"
          ]
        },
        {
          "data": {
            "text/plain": [
              "'6fab660a-841a-488c-ab6e-8599a3b91216'"
            ]
          },
          "execution_count": 8,
          "metadata": {},
          "output_type": "execute_result"
        }
      ],
      "source": [
        "update_json_tree(file_path,\n",
        "                        \"what is C#?\",\n",
        "                        \"C# (pronounced C-sharp) is a programming language developed by Microsoft primarily for Windows applications.\")"
      ]
    },
    {
      "cell_type": "code",
      "execution_count": null,
      "metadata": {},
      "outputs": [],
      "source": [
        "import json\n",
        "import os\n",
        "import uuid\n",
        "import re\n",
        "\n",
        "# -----------------------------------------\n",
        "# Configuration\n",
        "# -----------------------------------------\n",
        "THRESHOLD = 0.2  # Adjust as needed for stricter or looser matching\n",
        "\n",
        "# Define a set of common English stopwords to filter out during tokenization.\n",
        "STOPWORDS = {\n",
        "    \"what\", \"is\", \"your\", \"a\", \"an\", \"the\", \"and\", \"or\", \"but\", \"if\",\n",
        "    \"of\", \"for\", \"to\", \"in\", \"with\", \"on\", \"at\", \"from\", \"as\", \"it\",\n",
        "    \"are\", \"this\", \"that\", \"was\", \"were\", \"be\", \"been\", \"has\", \"have\", \"had\"\n",
        "}\n",
        "\n",
        "def tokenize(text):\n",
        "    tokens = set(re.findall(r'\\w+', text.lower()))\n",
        "    filtered_tokens = {token for token in tokens if token not in STOPWORDS}\n",
        "    return filtered_tokens\n",
        "\n",
        "def context_overlap_ratio(question, node):\n",
        "    node_text = node.get('question', '') + \" \" + node.get('answer', '')\n",
        "    question_tokens = tokenize(question)\n",
        "    node_tokens = tokenize(node_text)\n",
        "    if not question_tokens:\n",
        "        return 0.0\n",
        "    common_tokens = question_tokens.intersection(node_tokens)\n",
        "    return len(common_tokens) / len(question_tokens)\n",
        "\n",
        "def find_deepest_context_node(node, question, threshold):\n",
        "    ratio_here = context_overlap_ratio(question, node)\n",
        "    if ratio_here < threshold:\n",
        "        # Not in context with this node at all\n",
        "        return None, 0.0\n",
        "    \n",
        "    # Node is in context; see if there's a child that is also in context, possibly with a better ratio.\n",
        "    best_node = node\n",
        "    best_ratio = ratio_here\n",
        "    \n",
        "    for child in node.get('children', []):\n",
        "        candidate_node, candidate_ratio = find_deepest_context_node(child, question, threshold)\n",
        "        # Only consider children that are themselves in context\n",
        "        if candidate_node is not None and candidate_ratio >= threshold:\n",
        "            # Prefer the child if it meets threshold and is deeper\n",
        "            # We'll pick the child with the highest ratio among siblings.\n",
        "            if candidate_ratio > best_ratio:\n",
        "                best_node = candidate_node\n",
        "                best_ratio = candidate_ratio\n",
        "\n",
        "    return best_node, best_ratio\n",
        "\n",
        "def find_best_placement_in_forest(forest, question, threshold):\n",
        "    best_node = None\n",
        "    best_ratio = 0.0\n",
        "    \n",
        "    for root in forest:\n",
        "        node, ratio = find_deepest_context_node(root, question, threshold)\n",
        "        if ratio > best_ratio:\n",
        "            best_node = node\n",
        "            best_ratio = ratio\n",
        "    \n",
        "    return best_node, best_ratio\n",
        "\n",
        "def update_json_tree(file_path, question, answer, threshold=THRESHOLD):\n",
        "    # Load existing tree data; initialize as an empty list if the file is absent or invalid.\n",
        "    if os.path.exists(file_path):\n",
        "        try:\n",
        "            with open(file_path, 'r') as f:\n",
        "                tree = json.load(f)\n",
        "                if not isinstance(tree, list):\n",
        "                    tree = []\n",
        "        except json.JSONDecodeError:\n",
        "            tree = []\n",
        "    else:\n",
        "        tree = []\n",
        "\n",
        "    # Create a new node with a unique identifier and an empty children list.\n",
        "    new_id = str(uuid.uuid4())\n",
        "    new_node = {\n",
        "        \"id\": new_id,\n",
        "        \"question\": question,\n",
        "        \"answer\": answer,\n",
        "        \"children\": []\n",
        "    }\n",
        "\n",
        "    # Find the best placement among all roots\n",
        "    best_node, best_ratio = find_best_placement_in_forest(tree, question, threshold)\n",
        "\n",
        "    if best_node is not None and best_ratio >= threshold:\n",
        "        # Attach under the best matching node\n",
        "        best_node.setdefault('children', []).append(new_node)\n",
        "        print(f\"Placed '{question}' under parent '{best_node['question']}' (overlap ratio={best_ratio:.2f}).\")\n",
        "    else:\n",
        "        # No suitable parent found => new root node\n",
        "        tree.append(new_node)\n",
        "        if best_node is None:\n",
        "            print(f\"No suitable parent found for '{question}'; created new root.\")\n",
        "        else:\n",
        "            print(f\"Overlap ratio below threshold ({best_ratio:.2f}); created new root for '{question}'.\")\n",
        "\n",
        "    # Write the updated tree back to the JSON file with pretty printing.\n",
        "    with open(file_path, 'w') as f:\n",
        "        json.dump(tree, f, indent=4)\n",
        "\n",
        "    return new_id\n",
        "\n"
      ]
    },
    {
      "cell_type": "code",
      "execution_count": 12,
      "metadata": {},
      "outputs": [
        {
          "name": "stdout",
          "output_type": "stream",
          "text": [
            "No suitable parent found for 'What is software development?'; created new root.\n"
          ]
        },
        {
          "data": {
            "text/plain": [
              "'95a67f68-3e78-4cd4-af81-3d1295247034'"
            ]
          },
          "execution_count": 12,
          "metadata": {},
          "output_type": "execute_result"
        }
      ],
      "source": [
        "# -------------------------------------------------------------------\n",
        "# Example Usage / Test Cases\n",
        "# -------------------------------------------------------------------\n",
        "file_path = \"qa7_tree.json\"\n",
        "\n",
        "# Optional: clear or re-initialize the file for a fresh test\n",
        "# with open(file_path, 'w') as f:\n",
        "#     json.dump([], f)\n",
        "\n",
        "# Q1: \"What is software development?\"\n",
        "update_json_tree(\n",
        "    file_path,\n",
        "    \"What is software development?\",\n",
        "    \"Software development is the process of conceiving, specifying, designing, programming, etc.\"\n",
        ")\n"
      ]
    },
    {
      "cell_type": "code",
      "execution_count": 13,
      "metadata": {},
      "outputs": [
        {
          "name": "stdout",
          "output_type": "stream",
          "text": [
            "Placed 'What are the different kinds of software?' under parent 'What is software development?' (overlap ratio=0.33).\n"
          ]
        },
        {
          "data": {
            "text/plain": [
              "'b5d4a652-7355-44f1-b88a-2920f44f08e6'"
            ]
          },
          "execution_count": 13,
          "metadata": {},
          "output_type": "execute_result"
        }
      ],
      "source": [
        "update_json_tree(\n",
        "    file_path,\n",
        "    \"What are the different kinds of software?\",\n",
        "    \"There are many types, including system software, application software, and more.\"\n",
        ")"
      ]
    },
    {
      "cell_type": "code",
      "execution_count": 14,
      "metadata": {},
      "outputs": [
        {
          "name": "stdout",
          "output_type": "stream",
          "text": [
            "Placed 'What is web based software?' under parent 'What is software development?' (overlap ratio=0.33).\n"
          ]
        },
        {
          "data": {
            "text/plain": [
              "'a501020c-3dcc-45b5-b7b8-8c44269072dc'"
            ]
          },
          "execution_count": 14,
          "metadata": {},
          "output_type": "execute_result"
        }
      ],
      "source": [
        "update_json_tree(\n",
        "    file_path,\n",
        "    \"What is web based software?\",\n",
        "    \"Web-based software is hosted on a remote server and accessed through a browser.\"\n",
        ")"
      ]
    },
    {
      "cell_type": "code",
      "execution_count": 15,
      "metadata": {},
      "outputs": [
        {
          "name": "stdout",
          "output_type": "stream",
          "text": [
            "Placed 'What is desktop software?' under parent 'What is software development?' (overlap ratio=0.50).\n"
          ]
        }
      ],
      "source": [
        "q4_id = update_json_tree(\n",
        "    file_path,\n",
        "    \"What is desktop software?\",\n",
        "    \"Desktop software is installed locally on a computer.\"\n",
        ")"
      ]
    },
    {
      "cell_type": "code",
      "execution_count": 16,
      "metadata": {},
      "outputs": [
        {
          "name": "stdout",
          "output_type": "stream",
          "text": [
            "No suitable parent found for 'What language should I learn?'; created new root.\n"
          ]
        },
        {
          "data": {
            "text/plain": [
              "'0aaeaa03-b3d9-4183-a0cd-ed6db1109226'"
            ]
          },
          "execution_count": 16,
          "metadata": {},
          "output_type": "execute_result"
        }
      ],
      "source": [
        "update_json_tree(\n",
        "    file_path,\n",
        "    \"What language should I learn?\",\n",
        "    \"You could learn Python, Java, or any other language depending on your goals.\"\n",
        ")\n"
      ]
    },
    {
      "cell_type": "code",
      "execution_count": null,
      "metadata": {},
      "outputs": [],
      "source": []
    }
  ],
  "metadata": {
    "colab": {
      "provenance": []
    },
    "kernelspec": {
      "display_name": "agent",
      "language": "python",
      "name": "python3"
    },
    "language_info": {
      "codemirror_mode": {
        "name": "ipython",
        "version": 3
      },
      "file_extension": ".py",
      "mimetype": "text/x-python",
      "name": "python",
      "nbconvert_exporter": "python",
      "pygments_lexer": "ipython3",
      "version": "3.11.10"
    }
  },
  "nbformat": 4,
  "nbformat_minor": 0
}
